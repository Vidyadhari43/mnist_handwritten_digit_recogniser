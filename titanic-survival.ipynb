{
 "cells": [
  {
   "cell_type": "code",
   "execution_count": 1,
   "id": "3fe9c8b7",
   "metadata": {
    "_cell_guid": "b1076dfc-b9ad-4769-8c92-a6c4dae69d19",
    "_uuid": "8f2839f25d086af736a60e9eeb907d3b93b6e0e5",
    "execution": {
     "iopub.execute_input": "2024-04-12T21:02:03.131081Z",
     "iopub.status.busy": "2024-04-12T21:02:03.130171Z",
     "iopub.status.idle": "2024-04-12T21:02:04.045173Z",
     "shell.execute_reply": "2024-04-12T21:02:04.044015Z"
    },
    "papermill": {
     "duration": 0.926487,
     "end_time": "2024-04-12T21:02:04.047787",
     "exception": false,
     "start_time": "2024-04-12T21:02:03.121300",
     "status": "completed"
    },
    "tags": []
   },
   "outputs": [
    {
     "name": "stdout",
     "output_type": "stream",
     "text": [
      "/kaggle/input/titanic/train.csv\n",
      "/kaggle/input/titanic/test.csv\n",
      "/kaggle/input/titanic/gender_submission.csv\n"
     ]
    }
   ],
   "source": [
    "# This Python 3 environment comes with many helpful analytics libraries installed\n",
    "# It is defined by the kaggle/python Docker image: https://github.com/kaggle/docker-python\n",
    "# For example, here's several helpful packages to load\n",
    "\n",
    "import numpy as np # linear algebra\n",
    "import pandas as pd # data processing, CSV file I/O (e.g. pd.read_csv)\n",
    "\n",
    "# Input data files are available in the read-only \"../input/\" directory\n",
    "# For example, running this (by clicking run or pressing Shift+Enter) will list all files under the input directory\n",
    "\n",
    "import os\n",
    "for dirname, _, filenames in os.walk('/kaggle/input'):\n",
    "    for filename in filenames:\n",
    "        print(os.path.join(dirname, filename))\n",
    "\n",
    "# You can write up to 20GB to the current directory (/kaggle/working/) that gets preserved as output when you create a version using \"Save & Run All\" \n",
    "# You can also write temporary files to /kaggle/temp/, but they won't be saved outside of the current session"
   ]
  },
  {
   "cell_type": "code",
   "execution_count": 2,
   "id": "90825c6a",
   "metadata": {
    "execution": {
     "iopub.execute_input": "2024-04-12T21:02:04.063883Z",
     "iopub.status.busy": "2024-04-12T21:02:04.062743Z",
     "iopub.status.idle": "2024-04-12T21:02:05.508324Z",
     "shell.execute_reply": "2024-04-12T21:02:05.507389Z"
    },
    "papermill": {
     "duration": 1.455964,
     "end_time": "2024-04-12T21:02:05.510883",
     "exception": false,
     "start_time": "2024-04-12T21:02:04.054919",
     "status": "completed"
    },
    "tags": []
   },
   "outputs": [],
   "source": [
    "import matplotlib.pyplot as plt\n",
    "import seaborn as sns"
   ]
  },
  {
   "cell_type": "code",
   "execution_count": 3,
   "id": "b9f5e4fa",
   "metadata": {
    "execution": {
     "iopub.execute_input": "2024-04-12T21:02:05.525925Z",
     "iopub.status.busy": "2024-04-12T21:02:05.525010Z",
     "iopub.status.idle": "2024-04-12T21:02:05.551280Z",
     "shell.execute_reply": "2024-04-12T21:02:05.550138Z"
    },
    "papermill": {
     "duration": 0.036598,
     "end_time": "2024-04-12T21:02:05.553957",
     "exception": false,
     "start_time": "2024-04-12T21:02:05.517359",
     "status": "completed"
    },
    "tags": []
   },
   "outputs": [],
   "source": [
    "train_df=pd.read_csv('/kaggle/input/titanic/train.csv')\n",
    "test_df=pd.read_csv('/kaggle/input/titanic/test.csv')"
   ]
  },
  {
   "cell_type": "code",
   "execution_count": 4,
   "id": "32ef13bd",
   "metadata": {
    "execution": {
     "iopub.execute_input": "2024-04-12T21:02:05.568669Z",
     "iopub.status.busy": "2024-04-12T21:02:05.568271Z",
     "iopub.status.idle": "2024-04-12T21:02:05.596381Z",
     "shell.execute_reply": "2024-04-12T21:02:05.595594Z"
    },
    "papermill": {
     "duration": 0.038044,
     "end_time": "2024-04-12T21:02:05.598542",
     "exception": false,
     "start_time": "2024-04-12T21:02:05.560498",
     "status": "completed"
    },
    "tags": []
   },
   "outputs": [
    {
     "data": {
      "text/html": [
       "<div>\n",
       "<style scoped>\n",
       "    .dataframe tbody tr th:only-of-type {\n",
       "        vertical-align: middle;\n",
       "    }\n",
       "\n",
       "    .dataframe tbody tr th {\n",
       "        vertical-align: top;\n",
       "    }\n",
       "\n",
       "    .dataframe thead th {\n",
       "        text-align: right;\n",
       "    }\n",
       "</style>\n",
       "<table border=\"1\" class=\"dataframe\">\n",
       "  <thead>\n",
       "    <tr style=\"text-align: right;\">\n",
       "      <th></th>\n",
       "      <th>PassengerId</th>\n",
       "      <th>Survived</th>\n",
       "      <th>Pclass</th>\n",
       "      <th>Name</th>\n",
       "      <th>Sex</th>\n",
       "      <th>Age</th>\n",
       "      <th>SibSp</th>\n",
       "      <th>Parch</th>\n",
       "      <th>Ticket</th>\n",
       "      <th>Fare</th>\n",
       "      <th>Cabin</th>\n",
       "      <th>Embarked</th>\n",
       "    </tr>\n",
       "  </thead>\n",
       "  <tbody>\n",
       "    <tr>\n",
       "      <th>377</th>\n",
       "      <td>378</td>\n",
       "      <td>0</td>\n",
       "      <td>1</td>\n",
       "      <td>Widener, Mr. Harry Elkins</td>\n",
       "      <td>male</td>\n",
       "      <td>27.0</td>\n",
       "      <td>0</td>\n",
       "      <td>2</td>\n",
       "      <td>113503</td>\n",
       "      <td>211.5</td>\n",
       "      <td>C82</td>\n",
       "      <td>C</td>\n",
       "    </tr>\n",
       "    <tr>\n",
       "      <th>345</th>\n",
       "      <td>346</td>\n",
       "      <td>1</td>\n",
       "      <td>2</td>\n",
       "      <td>Brown, Miss. Amelia \"Mildred\"</td>\n",
       "      <td>female</td>\n",
       "      <td>24.0</td>\n",
       "      <td>0</td>\n",
       "      <td>0</td>\n",
       "      <td>248733</td>\n",
       "      <td>13.0</td>\n",
       "      <td>F33</td>\n",
       "      <td>S</td>\n",
       "    </tr>\n",
       "  </tbody>\n",
       "</table>\n",
       "</div>"
      ],
      "text/plain": [
       "     PassengerId  Survived  Pclass                           Name     Sex  \\\n",
       "377          378         0       1      Widener, Mr. Harry Elkins    male   \n",
       "345          346         1       2  Brown, Miss. Amelia \"Mildred\"  female   \n",
       "\n",
       "      Age  SibSp  Parch  Ticket   Fare Cabin Embarked  \n",
       "377  27.0      0      2  113503  211.5   C82        C  \n",
       "345  24.0      0      0  248733   13.0   F33        S  "
      ]
     },
     "execution_count": 4,
     "metadata": {},
     "output_type": "execute_result"
    }
   ],
   "source": [
    "train_df.sample(2)"
   ]
  },
  {
   "cell_type": "code",
   "execution_count": 5,
   "id": "16bbde55",
   "metadata": {
    "execution": {
     "iopub.execute_input": "2024-04-12T21:02:05.614480Z",
     "iopub.status.busy": "2024-04-12T21:02:05.613465Z",
     "iopub.status.idle": "2024-04-12T21:02:05.628963Z",
     "shell.execute_reply": "2024-04-12T21:02:05.628207Z"
    },
    "papermill": {
     "duration": 0.025579,
     "end_time": "2024-04-12T21:02:05.631055",
     "exception": false,
     "start_time": "2024-04-12T21:02:05.605476",
     "status": "completed"
    },
    "tags": []
   },
   "outputs": [
    {
     "data": {
      "text/html": [
       "<div>\n",
       "<style scoped>\n",
       "    .dataframe tbody tr th:only-of-type {\n",
       "        vertical-align: middle;\n",
       "    }\n",
       "\n",
       "    .dataframe tbody tr th {\n",
       "        vertical-align: top;\n",
       "    }\n",
       "\n",
       "    .dataframe thead th {\n",
       "        text-align: right;\n",
       "    }\n",
       "</style>\n",
       "<table border=\"1\" class=\"dataframe\">\n",
       "  <thead>\n",
       "    <tr style=\"text-align: right;\">\n",
       "      <th></th>\n",
       "      <th>PassengerId</th>\n",
       "      <th>Pclass</th>\n",
       "      <th>Name</th>\n",
       "      <th>Sex</th>\n",
       "      <th>Age</th>\n",
       "      <th>SibSp</th>\n",
       "      <th>Parch</th>\n",
       "      <th>Ticket</th>\n",
       "      <th>Fare</th>\n",
       "      <th>Cabin</th>\n",
       "      <th>Embarked</th>\n",
       "    </tr>\n",
       "  </thead>\n",
       "  <tbody>\n",
       "    <tr>\n",
       "      <th>110</th>\n",
       "      <td>1002</td>\n",
       "      <td>2</td>\n",
       "      <td>Stanton, Mr. Samuel Ward</td>\n",
       "      <td>male</td>\n",
       "      <td>41.0</td>\n",
       "      <td>0</td>\n",
       "      <td>0</td>\n",
       "      <td>237734</td>\n",
       "      <td>15.0458</td>\n",
       "      <td>NaN</td>\n",
       "      <td>C</td>\n",
       "    </tr>\n",
       "  </tbody>\n",
       "</table>\n",
       "</div>"
      ],
      "text/plain": [
       "     PassengerId  Pclass                      Name   Sex   Age  SibSp  Parch  \\\n",
       "110         1002       2  Stanton, Mr. Samuel Ward  male  41.0      0      0   \n",
       "\n",
       "     Ticket     Fare Cabin Embarked  \n",
       "110  237734  15.0458   NaN        C  "
      ]
     },
     "execution_count": 5,
     "metadata": {},
     "output_type": "execute_result"
    }
   ],
   "source": [
    "test_df[test_df['PassengerId']==1002]"
   ]
  },
  {
   "cell_type": "code",
   "execution_count": 6,
   "id": "65fe8cef",
   "metadata": {
    "execution": {
     "iopub.execute_input": "2024-04-12T21:02:05.646583Z",
     "iopub.status.busy": "2024-04-12T21:02:05.645882Z",
     "iopub.status.idle": "2024-04-12T21:02:05.655101Z",
     "shell.execute_reply": "2024-04-12T21:02:05.654038Z"
    },
    "papermill": {
     "duration": 0.019578,
     "end_time": "2024-04-12T21:02:05.657444",
     "exception": false,
     "start_time": "2024-04-12T21:02:05.637866",
     "status": "completed"
    },
    "tags": []
   },
   "outputs": [],
   "source": [
    "test_result_df=pd.read_csv('/kaggle/input/titanic/gender_submission.csv')"
   ]
  },
  {
   "cell_type": "code",
   "execution_count": 7,
   "id": "61954668",
   "metadata": {
    "execution": {
     "iopub.execute_input": "2024-04-12T21:02:05.673017Z",
     "iopub.status.busy": "2024-04-12T21:02:05.672600Z",
     "iopub.status.idle": "2024-04-12T21:02:05.682459Z",
     "shell.execute_reply": "2024-04-12T21:02:05.681459Z"
    },
    "papermill": {
     "duration": 0.020399,
     "end_time": "2024-04-12T21:02:05.684792",
     "exception": false,
     "start_time": "2024-04-12T21:02:05.664393",
     "status": "completed"
    },
    "tags": []
   },
   "outputs": [
    {
     "data": {
      "text/html": [
       "<div>\n",
       "<style scoped>\n",
       "    .dataframe tbody tr th:only-of-type {\n",
       "        vertical-align: middle;\n",
       "    }\n",
       "\n",
       "    .dataframe tbody tr th {\n",
       "        vertical-align: top;\n",
       "    }\n",
       "\n",
       "    .dataframe thead th {\n",
       "        text-align: right;\n",
       "    }\n",
       "</style>\n",
       "<table border=\"1\" class=\"dataframe\">\n",
       "  <thead>\n",
       "    <tr style=\"text-align: right;\">\n",
       "      <th></th>\n",
       "      <th>PassengerId</th>\n",
       "      <th>Survived</th>\n",
       "    </tr>\n",
       "  </thead>\n",
       "  <tbody>\n",
       "    <tr>\n",
       "      <th>163</th>\n",
       "      <td>1055</td>\n",
       "      <td>0</td>\n",
       "    </tr>\n",
       "    <tr>\n",
       "      <th>372</th>\n",
       "      <td>1264</td>\n",
       "      <td>0</td>\n",
       "    </tr>\n",
       "  </tbody>\n",
       "</table>\n",
       "</div>"
      ],
      "text/plain": [
       "     PassengerId  Survived\n",
       "163         1055         0\n",
       "372         1264         0"
      ]
     },
     "execution_count": 7,
     "metadata": {},
     "output_type": "execute_result"
    }
   ],
   "source": [
    "test_result_df.sample(2)"
   ]
  },
  {
   "cell_type": "code",
   "execution_count": 8,
   "id": "82a387bc",
   "metadata": {
    "execution": {
     "iopub.execute_input": "2024-04-12T21:02:05.700529Z",
     "iopub.status.busy": "2024-04-12T21:02:05.700162Z",
     "iopub.status.idle": "2024-04-12T21:02:05.709898Z",
     "shell.execute_reply": "2024-04-12T21:02:05.708862Z"
    },
    "papermill": {
     "duration": 0.020118,
     "end_time": "2024-04-12T21:02:05.712045",
     "exception": false,
     "start_time": "2024-04-12T21:02:05.691927",
     "status": "completed"
    },
    "tags": []
   },
   "outputs": [
    {
     "data": {
      "text/plain": [
       "PassengerId      0\n",
       "Survived         0\n",
       "Pclass           0\n",
       "Name             0\n",
       "Sex              0\n",
       "Age            177\n",
       "SibSp            0\n",
       "Parch            0\n",
       "Ticket           0\n",
       "Fare             0\n",
       "Cabin          687\n",
       "Embarked         2\n",
       "dtype: int64"
      ]
     },
     "execution_count": 8,
     "metadata": {},
     "output_type": "execute_result"
    }
   ],
   "source": [
    "train_df.isna().sum()"
   ]
  },
  {
   "cell_type": "code",
   "execution_count": 9,
   "id": "7916da31",
   "metadata": {
    "execution": {
     "iopub.execute_input": "2024-04-12T21:02:05.728666Z",
     "iopub.status.busy": "2024-04-12T21:02:05.727743Z",
     "iopub.status.idle": "2024-04-12T21:02:05.736543Z",
     "shell.execute_reply": "2024-04-12T21:02:05.735491Z"
    },
    "papermill": {
     "duration": 0.019836,
     "end_time": "2024-04-12T21:02:05.739107",
     "exception": false,
     "start_time": "2024-04-12T21:02:05.719271",
     "status": "completed"
    },
    "tags": []
   },
   "outputs": [
    {
     "data": {
      "text/plain": [
       "PassengerId      0\n",
       "Pclass           0\n",
       "Name             0\n",
       "Sex              0\n",
       "Age             86\n",
       "SibSp            0\n",
       "Parch            0\n",
       "Ticket           0\n",
       "Fare             1\n",
       "Cabin          327\n",
       "Embarked         0\n",
       "dtype: int64"
      ]
     },
     "execution_count": 9,
     "metadata": {},
     "output_type": "execute_result"
    }
   ],
   "source": [
    "test_df.isna().sum()"
   ]
  },
  {
   "cell_type": "markdown",
   "id": "925117da",
   "metadata": {
    "papermill": {
     "duration": 0.007223,
     "end_time": "2024-04-12T21:02:05.753620",
     "exception": false,
     "start_time": "2024-04-12T21:02:05.746397",
     "status": "completed"
    },
    "tags": []
   },
   "source": [
    "## Data Visulaisation"
   ]
  },
  {
   "cell_type": "code",
   "execution_count": 10,
   "id": "e18b766d",
   "metadata": {
    "execution": {
     "iopub.execute_input": "2024-04-12T21:02:05.769830Z",
     "iopub.status.busy": "2024-04-12T21:02:05.769469Z",
     "iopub.status.idle": "2024-04-12T21:02:05.775976Z",
     "shell.execute_reply": "2024-04-12T21:02:05.775186Z"
    },
    "papermill": {
     "duration": 0.017125,
     "end_time": "2024-04-12T21:02:05.778022",
     "exception": false,
     "start_time": "2024-04-12T21:02:05.760897",
     "status": "completed"
    },
    "tags": []
   },
   "outputs": [
    {
     "data": {
      "text/plain": [
       "Index(['PassengerId', 'Survived', 'Pclass', 'Name', 'Sex', 'Age', 'SibSp',\n",
       "       'Parch', 'Ticket', 'Fare', 'Cabin', 'Embarked'],\n",
       "      dtype='object')"
      ]
     },
     "execution_count": 10,
     "metadata": {},
     "output_type": "execute_result"
    }
   ],
   "source": [
    "train_df.columns"
   ]
  },
  {
   "cell_type": "code",
   "execution_count": 11,
   "id": "b0d0c313",
   "metadata": {
    "execution": {
     "iopub.execute_input": "2024-04-12T21:02:05.797157Z",
     "iopub.status.busy": "2024-04-12T21:02:05.796043Z",
     "iopub.status.idle": "2024-04-12T21:02:06.105058Z",
     "shell.execute_reply": "2024-04-12T21:02:06.103797Z"
    },
    "papermill": {
     "duration": 0.320728,
     "end_time": "2024-04-12T21:02:06.107680",
     "exception": false,
     "start_time": "2024-04-12T21:02:05.786952",
     "status": "completed"
    },
    "tags": []
   },
   "outputs": [
    {
     "data": {
      "text/plain": [
       "<Axes: xlabel='Sex', ylabel='count'>"
      ]
     },
     "execution_count": 11,
     "metadata": {},
     "output_type": "execute_result"
    },
    {
     "data": {
      "image/png": "[encoded data removed]",
      "text/plain": [
       "<Figure size 640x480 with 1 Axes>"
      ]
     },
     "metadata": {},
     "output_type": "display_data"
    }
   ],
   "source": [
    "sns.countplot(data=train_df, x='Sex', hue='Survived')\n"
   ]
  },
  {
   "cell_type": "code",
   "execution_count": 12,
   "id": "e8bad848",
   "metadata": {
    "execution": {
     "iopub.execute_input": "2024-04-12T21:02:06.125792Z",
     "iopub.status.busy": "2024-04-12T21:02:06.125414Z",
     "iopub.status.idle": "2024-04-12T21:02:06.528481Z",
     "shell.execute_reply": "2024-04-12T21:02:06.527293Z"
    },
    "papermill": {
     "duration": 0.415365,
     "end_time": "2024-04-12T21:02:06.531133",
     "exception": false,
     "start_time": "2024-04-12T21:02:06.115768",
     "status": "completed"
    },
    "tags": []
   },
   "outputs": [
    {
     "data": {
      "text/plain": [
       "<Axes: xlabel='Sex', ylabel='Survived'>"
      ]
     },
     "execution_count": 12,
     "metadata": {},
     "output_type": "execute_result"
    },
    {
     "data": {
      "image/png": "[encoded data removed]",
      "text/plain": [
       "<Figure size 640x480 with 1 Axes>"
      ]
     },
     "metadata": {},
     "output_type": "display_data"
    }
   ],
   "source": [
    "sns.barplot(y='Survived',x='Sex',data=train_df)\n",
    "#barplot gives output as percentages"
   ]
  },
  {
   "cell_type": "markdown",
   "id": "987b37e9",
   "metadata": {
    "papermill": {
     "duration": 0.008732,
     "end_time": "2024-04-12T21:02:06.549035",
     "exception": false,
     "start_time": "2024-04-12T21:02:06.540303",
     "status": "completed"
    },
    "tags": []
   },
   "source": [
    "### We can tell that female having more chances to survive than male. So 'Sex' attribute is highly correlated with Survival"
   ]
  },
  {
   "cell_type": "code",
   "execution_count": 13,
   "id": "06e87c91",
   "metadata": {
    "execution": {
     "iopub.execute_input": "2024-04-12T21:02:06.568467Z",
     "iopub.status.busy": "2024-04-12T21:02:06.567501Z",
     "iopub.status.idle": "2024-04-12T21:02:06.863413Z",
     "shell.execute_reply": "2024-04-12T21:02:06.862367Z"
    },
    "papermill": {
     "duration": 0.308297,
     "end_time": "2024-04-12T21:02:06.865891",
     "exception": false,
     "start_time": "2024-04-12T21:02:06.557594",
     "status": "completed"
    },
    "tags": []
   },
   "outputs": [
    {
     "data": {
      "text/plain": [
       "<Axes: xlabel='Pclass', ylabel='count'>"
      ]
     },
     "execution_count": 13,
     "metadata": {},
     "output_type": "execute_result"
    },
    {
     "data": {
      "image/png": "[encoded data removed]",
      "text/plain": [
       "<Figure size 640x480 with 1 Axes>"
      ]
     },
     "metadata": {},
     "output_type": "display_data"
    }
   ],
   "source": [
    "sns.countplot(data=train_df, x='Pclass', hue='Survived')"
   ]
  },
  {
   "cell_type": "code",
   "execution_count": 14,
   "id": "dab146ab",
   "metadata": {
    "execution": {
     "iopub.execute_input": "2024-04-12T21:02:06.886377Z",
     "iopub.status.busy": "2024-04-12T21:02:06.885957Z",
     "iopub.status.idle": "2024-04-12T21:02:07.240121Z",
     "shell.execute_reply": "2024-04-12T21:02:07.238844Z"
    },
    "papermill": {
     "duration": 0.36735,
     "end_time": "2024-04-12T21:02:07.242467",
     "exception": false,
     "start_time": "2024-04-12T21:02:06.875117",
     "status": "completed"
    },
    "tags": []
   },
   "outputs": [
    {
     "data": {
      "text/plain": [
       "<Axes: xlabel='Pclass', ylabel='Survived'>"
      ]
     },
     "execution_count": 14,
     "metadata": {},
     "output_type": "execute_result"
    },
    {
     "data": {
      "image/png": "[encoded data removed]",
      "text/plain": [
       "<Figure size 640x480 with 1 Axes>"
      ]
     },
     "metadata": {},
     "output_type": "display_data"
    }
   ],
   "source": [
    "sns.barplot(y='Survived',x='Pclass',data=train_df)\n",
    "#barplot gives output as percentages"
   ]
  },
  {
   "cell_type": "markdown",
   "id": "ad6289e3",
   "metadata": {
    "papermill": {
     "duration": 0.009315,
     "end_time": "2024-04-12T21:02:07.261835",
     "exception": false,
     "start_time": "2024-04-12T21:02:07.252520",
     "status": "completed"
    },
    "tags": []
   },
   "source": [
    "### People in class 1 has high survival rate. So we can tell that Pclass also correlated with Survival"
   ]
  },
  {
   "cell_type": "code",
   "execution_count": 15,
   "id": "5b65ec82",
   "metadata": {
    "execution": {
     "iopub.execute_input": "2024-04-12T21:02:07.282821Z",
     "iopub.status.busy": "2024-04-12T21:02:07.282410Z",
     "iopub.status.idle": "2024-04-12T21:02:10.698419Z",
     "shell.execute_reply": "2024-04-12T21:02:10.697194Z"
    },
    "papermill": {
     "duration": 3.430034,
     "end_time": "2024-04-12T21:02:10.701491",
     "exception": false,
     "start_time": "2024-04-12T21:02:07.271457",
     "status": "completed"
    },
    "tags": []
   },
   "outputs": [
    {
     "data": {
      "text/plain": [
       "<Axes: xlabel='Age', ylabel='Survived'>"
      ]
     },
     "execution_count": 15,
     "metadata": {},
     "output_type": "execute_result"
    },
    {
     "data": {
      "image/png": "[encoded data removed]",
      "text/plain": [
       "<Figure size 640x480 with 1 Axes>"
      ]
     },
     "metadata": {},
     "output_type": "display_data"
    }
   ],
   "source": [
    "sns.barplot(y='Survived',x='Age',data=train_df)\n",
    "#barplot gives output as percentages"
   ]
  }
 ],
 "metadata": {
  "kaggle": {
   "accelerator": "none",
   "dataSources": [
    {
     "databundleVersionId": 26502,
     "sourceId": 3136,
     "sourceType": "competition"
    }
   ],
   "dockerImageVersionId": 30684,
   "isGpuEnabled": false,
   "isInternetEnabled": false,
   "language": "python",
   "sourceType": "notebook"
  },
  "kernelspec": {
   "display_name": "Python 3",
   "language": "python",
   "name": "python3"
  },
  "language_info": {
   "codemirror_mode": {
    "name": "ipython",
    "version": 3
   },
   "file_extension": ".py",
   "mimetype": "text/x-python",
   "name": "python",
   "nbconvert_exporter": "python",
   "pygments_lexer": "ipython3",
   "version": "3.10.13"
  },
  "papermill": {
   "default_parameters": {},
   "duration": 11.22121,
   "end_time": "2024-04-12T21:02:11.333570",
   "environment_variables": {},
   "exception": null,
   "input_path": "__notebook__.ipynb",
   "output_path": "__notebook__.ipynb",
   "parameters": {},
   "start_time": "2024-04-12T21:02:00.112360",
   "version": "2.5.0"
  }
 },
 "nbformat": 4,
 "nbformat_minor": 5
}
