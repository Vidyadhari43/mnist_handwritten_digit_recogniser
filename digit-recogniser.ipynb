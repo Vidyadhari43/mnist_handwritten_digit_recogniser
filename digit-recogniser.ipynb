{
 "cells": [
  {
   "cell_type": "code",
   "execution_count": 1,
   "id": "8329f66a",
   "metadata": {
    "_cell_guid": "b1076dfc-b9ad-4769-8c92-a6c4dae69d19",
    "_uuid": "8f2839f25d086af736a60e9eeb907d3b93b6e0e5",
    "execution": {
     "iopub.execute_input": "2024-04-12T20:16:04.228831Z",
     "iopub.status.busy": "2024-04-12T20:16:04.228471Z",
     "iopub.status.idle": "2024-04-12T20:16:04.999702Z",
     "shell.execute_reply": "2024-04-12T20:16:04.998099Z"
    },
    "papermill": {
     "duration": 0.781313,
     "end_time": "2024-04-12T20:16:05.001955",
     "exception": false,
     "start_time": "2024-04-12T20:16:04.220642",
     "status": "completed"
    },
    "tags": []
   },
   "outputs": [
    {
     "name": "stdout",
     "output_type": "stream",
     "text": [
      "/kaggle/input/digit-recognizer/sample_submission.csv\n",
      "/kaggle/input/digit-recognizer/train.csv\n",
      "/kaggle/input/digit-recognizer/test.csv\n"
     ]
    }
   ],
   "source": [
    "# This Python 3 environment comes with many helpful analytics libraries installed\n",
    "# It is defined by the kaggle/python Docker image: https://github.com/kaggle/docker-python\n",
    "# For example, here's several helpful packages to load\n",
    "\n",
    "import numpy as np # linear algebra\n",
    "import pandas as pd # data processing, CSV file I/O (e.g. pd.read_csv)\n",
    "\n",
    "# Input data files are available in the read-only \"../input/\" directory\n",
    "# For example, running this (by clicking run or pressing Shift+Enter) will list all files under the input directory\n",
    "\n",
    "import os\n",
    "for dirname, _, filenames in os.walk('/kaggle/input'):\n",
    "    for filename in filenames:\n",
    "        print(os.path.join(dirname, filename))\n",
    "\n",
    "# You can write up to 20GB to the current directory (/kaggle/working/) that gets preserved as output when you create a version using \"Save & Run All\" \n",
    "# You can also write temporary files to /kaggle/temp/, but they won't be saved outside of the current session"
   ]
  },
  {
   "cell_type": "code",
   "execution_count": 2,
   "id": "faccdf0d",
   "metadata": {
    "execution": {
     "iopub.execute_input": "2024-04-12T20:16:05.015268Z",
     "iopub.status.busy": "2024-04-12T20:16:05.014780Z",
     "iopub.status.idle": "2024-04-12T20:16:09.919015Z",
     "shell.execute_reply": "2024-04-12T20:16:09.917938Z"
    },
    "papermill": {
     "duration": 4.91372,
     "end_time": "2024-04-12T20:16:09.921686",
     "exception": false,
     "start_time": "2024-04-12T20:16:05.007966",
     "status": "completed"
    },
    "tags": []
   },
   "outputs": [],
   "source": [
    "train_df=pd.read_csv('/kaggle/input/digit-recognizer/train.csv')\n",
    "test_df=pd.read_csv('/kaggle/input/digit-recognizer/test.csv')"
   ]
  },
  {
   "cell_type": "code",
   "execution_count": 3,
   "id": "3446c5e1",
   "metadata": {
    "execution": {
     "iopub.execute_input": "2024-04-12T20:16:09.935272Z",
     "iopub.status.busy": "2024-04-12T20:16:09.934677Z",
     "iopub.status.idle": "2024-04-12T20:16:09.964858Z",
     "shell.execute_reply": "2024-04-12T20:16:09.963980Z"
    },
    "papermill": {
     "duration": 0.039577,
     "end_time": "2024-04-12T20:16:09.967135",
     "exception": false,
     "start_time": "2024-04-12T20:16:09.927558",
     "status": "completed"
    },
    "tags": []
   },
   "outputs": [
    {
     "data": {
      "text/html": [
       "<div>\n",
       "<style scoped>\n",
       "    .dataframe tbody tr th:only-of-type {\n",
       "        vertical-align: middle;\n",
       "    }\n",
       "\n",
       "    .dataframe tbody tr th {\n",
       "        vertical-align: top;\n",
       "    }\n",
       "\n",
       "    .dataframe thead th {\n",
       "        text-align: right;\n",
       "    }\n",
       "</style>\n",
       "<table border=\"1\" class=\"dataframe\">\n",
       "  <thead>\n",
       "    <tr style=\"text-align: right;\">\n",
       "      <th></th>\n",
       "      <th>label</th>\n",
       "      <th>pixel0</th>\n",
       "      <th>pixel1</th>\n",
       "      <th>pixel2</th>\n",
       "      <th>pixel3</th>\n",
       "      <th>pixel4</th>\n",
       "      <th>pixel5</th>\n",
       "      <th>pixel6</th>\n",
       "      <th>pixel7</th>\n",
       "      <th>pixel8</th>\n",
       "      <th>...</th>\n",
       "      <th>pixel774</th>\n",
       "      <th>pixel775</th>\n",
       "      <th>pixel776</th>\n",
       "      <th>pixel777</th>\n",
       "      <th>pixel778</th>\n",
       "      <th>pixel779</th>\n",
       "      <th>pixel780</th>\n",
       "      <th>pixel781</th>\n",
       "      <th>pixel782</th>\n",
       "      <th>pixel783</th>\n",
       "    </tr>\n",
       "  </thead>\n",
       "  <tbody>\n",
       "    <tr>\n",
       "      <th>19849</th>\n",
       "      <td>7</td>\n",
       "      <td>0</td>\n",
       "      <td>0</td>\n",
       "      <td>0</td>\n",
       "      <td>0</td>\n",
       "      <td>0</td>\n",
       "      <td>0</td>\n",
       "      <td>0</td>\n",
       "      <td>0</td>\n",
       "      <td>0</td>\n",
       "      <td>...</td>\n",
       "      <td>0</td>\n",
       "      <td>0</td>\n",
       "      <td>0</td>\n",
       "      <td>0</td>\n",
       "      <td>0</td>\n",
       "      <td>0</td>\n",
       "      <td>0</td>\n",
       "      <td>0</td>\n",
       "      <td>0</td>\n",
       "      <td>0</td>\n",
       "    </tr>\n",
       "    <tr>\n",
       "      <th>33941</th>\n",
       "      <td>9</td>\n",
       "      <td>0</td>\n",
       "      <td>0</td>\n",
       "      <td>0</td>\n",
       "      <td>0</td>\n",
       "      <td>0</td>\n",
       "      <td>0</td>\n",
       "      <td>0</td>\n",
       "      <td>0</td>\n",
       "      <td>0</td>\n",
       "      <td>...</td>\n",
       "      <td>0</td>\n",
       "      <td>0</td>\n",
       "      <td>0</td>\n",
       "      <td>0</td>\n",
       "      <td>0</td>\n",
       "      <td>0</td>\n",
       "      <td>0</td>\n",
       "      <td>0</td>\n",
       "      <td>0</td>\n",
       "      <td>0</td>\n",
       "    </tr>\n",
       "  </tbody>\n",
       "</table>\n",
       "<p>2 rows × 785 columns</p>\n",
       "</div>"
      ],
      "text/plain": [
       "       label  pixel0  pixel1  pixel2  pixel3  pixel4  pixel5  pixel6  pixel7  \\\n",
       "19849      7       0       0       0       0       0       0       0       0   \n",
       "33941      9       0       0       0       0       0       0       0       0   \n",
       "\n",
       "       pixel8  ...  pixel774  pixel775  pixel776  pixel777  pixel778  \\\n",
       "19849       0  ...         0         0         0         0         0   \n",
       "33941       0  ...         0         0         0         0         0   \n",
       "\n",
       "       pixel779  pixel780  pixel781  pixel782  pixel783  \n",
       "19849         0         0         0         0         0  \n",
       "33941         0         0         0         0         0  \n",
       "\n",
       "[2 rows x 785 columns]"
      ]
     },
     "execution_count": 3,
     "metadata": {},
     "output_type": "execute_result"
    }
   ],
   "source": [
    "train_df.sample(2)"
   ]
  },
  {
   "cell_type": "code",
   "execution_count": 4,
   "id": "a7740555",
   "metadata": {
    "execution": {
     "iopub.execute_input": "2024-04-12T20:16:09.980890Z",
     "iopub.status.busy": "2024-04-12T20:16:09.980513Z",
     "iopub.status.idle": "2024-04-12T20:16:09.992616Z",
     "shell.execute_reply": "2024-04-12T20:16:09.991449Z"
    },
    "papermill": {
     "duration": 0.021678,
     "end_time": "2024-04-12T20:16:09.994935",
     "exception": false,
     "start_time": "2024-04-12T20:16:09.973257",
     "status": "completed"
    },
    "tags": []
   },
   "outputs": [
    {
     "data": {
      "text/plain": [
       "10"
      ]
     },
     "execution_count": 4,
     "metadata": {},
     "output_type": "execute_result"
    }
   ],
   "source": [
    "train_df['label'].nunique()"
   ]
  },
  {
   "cell_type": "code",
   "execution_count": 5,
   "id": "b7ae82cc",
   "metadata": {
    "execution": {
     "iopub.execute_input": "2024-04-12T20:16:10.009023Z",
     "iopub.status.busy": "2024-04-12T20:16:10.008622Z",
     "iopub.status.idle": "2024-04-12T20:16:10.015952Z",
     "shell.execute_reply": "2024-04-12T20:16:10.014972Z"
    },
    "papermill": {
     "duration": 0.017192,
     "end_time": "2024-04-12T20:16:10.018311",
     "exception": false,
     "start_time": "2024-04-12T20:16:10.001119",
     "status": "completed"
    },
    "tags": []
   },
   "outputs": [
    {
     "data": {
      "text/plain": [
       "array([1, 0, 4, 7, 3, 5, 8, 9, 2, 6])"
      ]
     },
     "execution_count": 5,
     "metadata": {},
     "output_type": "execute_result"
    }
   ],
   "source": [
    "train_df['label'].unique()"
   ]
  },
  {
   "cell_type": "code",
   "execution_count": 6,
   "id": "d588b7b9",
   "metadata": {
    "execution": {
     "iopub.execute_input": "2024-04-12T20:16:10.032907Z",
     "iopub.status.busy": "2024-04-12T20:16:10.032510Z",
     "iopub.status.idle": "2024-04-12T20:16:10.049871Z",
     "shell.execute_reply": "2024-04-12T20:16:10.048616Z"
    },
    "papermill": {
     "duration": 0.027199,
     "end_time": "2024-04-12T20:16:10.051932",
     "exception": false,
     "start_time": "2024-04-12T20:16:10.024733",
     "status": "completed"
    },
    "tags": []
   },
   "outputs": [
    {
     "data": {
      "text/html": [
       "<div>\n",
       "<style scoped>\n",
       "    .dataframe tbody tr th:only-of-type {\n",
       "        vertical-align: middle;\n",
       "    }\n",
       "\n",
       "    .dataframe tbody tr th {\n",
       "        vertical-align: top;\n",
       "    }\n",
       "\n",
       "    .dataframe thead th {\n",
       "        text-align: right;\n",
       "    }\n",
       "</style>\n",
       "<table border=\"1\" class=\"dataframe\">\n",
       "  <thead>\n",
       "    <tr style=\"text-align: right;\">\n",
       "      <th></th>\n",
       "      <th>pixel0</th>\n",
       "      <th>pixel1</th>\n",
       "      <th>pixel2</th>\n",
       "      <th>pixel3</th>\n",
       "      <th>pixel4</th>\n",
       "      <th>pixel5</th>\n",
       "      <th>pixel6</th>\n",
       "      <th>pixel7</th>\n",
       "      <th>pixel8</th>\n",
       "      <th>pixel9</th>\n",
       "      <th>...</th>\n",
       "      <th>pixel774</th>\n",
       "      <th>pixel775</th>\n",
       "      <th>pixel776</th>\n",
       "      <th>pixel777</th>\n",
       "      <th>pixel778</th>\n",
       "      <th>pixel779</th>\n",
       "      <th>pixel780</th>\n",
       "      <th>pixel781</th>\n",
       "      <th>pixel782</th>\n",
       "      <th>pixel783</th>\n",
       "    </tr>\n",
       "  </thead>\n",
       "  <tbody>\n",
       "    <tr>\n",
       "      <th>27843</th>\n",
       "      <td>0</td>\n",
       "      <td>0</td>\n",
       "      <td>0</td>\n",
       "      <td>0</td>\n",
       "      <td>0</td>\n",
       "      <td>0</td>\n",
       "      <td>0</td>\n",
       "      <td>0</td>\n",
       "      <td>0</td>\n",
       "      <td>0</td>\n",
       "      <td>...</td>\n",
       "      <td>0</td>\n",
       "      <td>0</td>\n",
       "      <td>0</td>\n",
       "      <td>0</td>\n",
       "      <td>0</td>\n",
       "      <td>0</td>\n",
       "      <td>0</td>\n",
       "      <td>0</td>\n",
       "      <td>0</td>\n",
       "      <td>0</td>\n",
       "    </tr>\n",
       "    <tr>\n",
       "      <th>20547</th>\n",
       "      <td>0</td>\n",
       "      <td>0</td>\n",
       "      <td>0</td>\n",
       "      <td>0</td>\n",
       "      <td>0</td>\n",
       "      <td>0</td>\n",
       "      <td>0</td>\n",
       "      <td>0</td>\n",
       "      <td>0</td>\n",
       "      <td>0</td>\n",
       "      <td>...</td>\n",
       "      <td>0</td>\n",
       "      <td>0</td>\n",
       "      <td>0</td>\n",
       "      <td>0</td>\n",
       "      <td>0</td>\n",
       "      <td>0</td>\n",
       "      <td>0</td>\n",
       "      <td>0</td>\n",
       "      <td>0</td>\n",
       "      <td>0</td>\n",
       "    </tr>\n",
       "  </tbody>\n",
       "</table>\n",
       "<p>2 rows × 784 columns</p>\n",
       "</div>"
      ],
      "text/plain": [
       "       pixel0  pixel1  pixel2  pixel3  pixel4  pixel5  pixel6  pixel7  pixel8  \\\n",
       "27843       0       0       0       0       0       0       0       0       0   \n",
       "20547       0       0       0       0       0       0       0       0       0   \n",
       "\n",
       "       pixel9  ...  pixel774  pixel775  pixel776  pixel777  pixel778  \\\n",
       "27843       0  ...         0         0         0         0         0   \n",
       "20547       0  ...         0         0         0         0         0   \n",
       "\n",
       "       pixel779  pixel780  pixel781  pixel782  pixel783  \n",
       "27843         0         0         0         0         0  \n",
       "20547         0         0         0         0         0  \n",
       "\n",
       "[2 rows x 784 columns]"
      ]
     },
     "execution_count": 6,
     "metadata": {},
     "output_type": "execute_result"
    }
   ],
   "source": [
    "test_df.sample(2)"
   ]
  },
  {
   "cell_type": "code",
   "execution_count": 7,
   "id": "6467d93b",
   "metadata": {
    "execution": {
     "iopub.execute_input": "2024-04-12T20:16:10.066119Z",
     "iopub.status.busy": "2024-04-12T20:16:10.065745Z",
     "iopub.status.idle": "2024-04-12T20:16:10.099945Z",
     "shell.execute_reply": "2024-04-12T20:16:10.098845Z"
    },
    "papermill": {
     "duration": 0.043815,
     "end_time": "2024-04-12T20:16:10.102150",
     "exception": false,
     "start_time": "2024-04-12T20:16:10.058335",
     "status": "completed"
    },
    "tags": []
   },
   "outputs": [
    {
     "data": {
      "text/plain": [
       "label       0\n",
       "pixel0      0\n",
       "pixel1      0\n",
       "pixel2      0\n",
       "pixel3      0\n",
       "           ..\n",
       "pixel779    0\n",
       "pixel780    0\n",
       "pixel781    0\n",
       "pixel782    0\n",
       "pixel783    0\n",
       "Length: 785, dtype: int64"
      ]
     },
     "execution_count": 7,
     "metadata": {},
     "output_type": "execute_result"
    }
   ],
   "source": [
    "train_df.isna().sum()"
   ]
  },
  {
   "cell_type": "markdown",
   "id": "ef3e38a2",
   "metadata": {
    "papermill": {
     "duration": 0.006282,
     "end_time": "2024-04-12T20:16:10.115052",
     "exception": false,
     "start_time": "2024-04-12T20:16:10.108770",
     "status": "completed"
    },
    "tags": []
   },
   "source": [
    "## Plotting the image"
   ]
  },
  {
   "cell_type": "code",
   "execution_count": 8,
   "id": "7f284d8c",
   "metadata": {
    "execution": {
     "iopub.execute_input": "2024-04-12T20:16:10.130743Z",
     "iopub.status.busy": "2024-04-12T20:16:10.130071Z",
     "iopub.status.idle": "2024-04-12T20:16:11.368686Z",
     "shell.execute_reply": "2024-04-12T20:16:11.367462Z"
    },
    "papermill": {
     "duration": 1.24891,
     "end_time": "2024-04-12T20:16:11.371337",
     "exception": false,
     "start_time": "2024-04-12T20:16:10.122427",
     "status": "completed"
    },
    "tags": []
   },
   "outputs": [],
   "source": [
    "import matplotlib.pyplot as plt\n",
    "import seaborn as sns"
   ]
  },
  {
   "cell_type": "code",
   "execution_count": 9,
   "id": "f035dbe0",
   "metadata": {
    "execution": {
     "iopub.execute_input": "2024-04-12T20:16:11.386294Z",
     "iopub.status.busy": "2024-04-12T20:16:11.385612Z",
     "iopub.status.idle": "2024-04-12T20:16:11.392284Z",
     "shell.execute_reply": "2024-04-12T20:16:11.391119Z"
    },
    "papermill": {
     "duration": 0.016384,
     "end_time": "2024-04-12T20:16:11.394348",
     "exception": false,
     "start_time": "2024-04-12T20:16:11.377964",
     "status": "completed"
    },
    "tags": []
   },
   "outputs": [
    {
     "data": {
      "text/plain": [
       "pandas.core.frame.DataFrame"
      ]
     },
     "execution_count": 9,
     "metadata": {},
     "output_type": "execute_result"
    }
   ],
   "source": [
    "type(train_df)"
   ]
  },
  {
   "cell_type": "code",
   "execution_count": 10,
   "id": "03b7bcec",
   "metadata": {
    "execution": {
     "iopub.execute_input": "2024-04-12T20:16:11.409300Z",
     "iopub.status.busy": "2024-04-12T20:16:11.408935Z",
     "iopub.status.idle": "2024-04-12T20:16:11.545898Z",
     "shell.execute_reply": "2024-04-12T20:16:11.544677Z"
    },
    "papermill": {
     "duration": 0.147318,
     "end_time": "2024-04-12T20:16:11.548481",
     "exception": false,
     "start_time": "2024-04-12T20:16:11.401163",
     "status": "completed"
    },
    "tags": []
   },
   "outputs": [],
   "source": [
    "numpa=np.array(train_df.iloc[:,1:])"
   ]
  },
  {
   "cell_type": "code",
   "execution_count": 11,
   "id": "124fee81",
   "metadata": {
    "execution": {
     "iopub.execute_input": "2024-04-12T20:16:11.564198Z",
     "iopub.status.busy": "2024-04-12T20:16:11.563285Z",
     "iopub.status.idle": "2024-04-12T20:16:11.569884Z",
     "shell.execute_reply": "2024-04-12T20:16:11.569107Z"
    },
    "papermill": {
     "duration": 0.016959,
     "end_time": "2024-04-12T20:16:11.572251",
     "exception": false,
     "start_time": "2024-04-12T20:16:11.555292",
     "status": "completed"
    },
    "tags": []
   },
   "outputs": [
    {
     "data": {
      "text/plain": [
       "(42000, 784)"
      ]
     },
     "execution_count": 11,
     "metadata": {},
     "output_type": "execute_result"
    }
   ],
   "source": [
    "numpa.shape"
   ]
  },
  {
   "cell_type": "markdown",
   "id": "57398be2",
   "metadata": {
    "papermill": {
     "duration": 0.010848,
     "end_time": "2024-04-12T20:16:11.591921",
     "exception": false,
     "start_time": "2024-04-12T20:16:11.581073",
     "status": "completed"
    },
    "tags": []
   },
   "source": [
    "## reshapping the array to 28x28 for plotting it"
   ]
  },
  {
   "cell_type": "code",
   "execution_count": 12,
   "id": "3fd06c0f",
   "metadata": {
    "execution": {
     "iopub.execute_input": "2024-04-12T20:16:11.613081Z",
     "iopub.status.busy": "2024-04-12T20:16:11.612168Z",
     "iopub.status.idle": "2024-04-12T20:16:11.616890Z",
     "shell.execute_reply": "2024-04-12T20:16:11.615966Z"
    },
    "papermill": {
     "duration": 0.017088,
     "end_time": "2024-04-12T20:16:11.618948",
     "exception": false,
     "start_time": "2024-04-12T20:16:11.601860",
     "status": "completed"
    },
    "tags": []
   },
   "outputs": [],
   "source": [
    "numpa=numpa.reshape(42000,28,28)"
   ]
  },
  {
   "cell_type": "code",
   "execution_count": 13,
   "id": "2727cf34",
   "metadata": {
    "execution": {
     "iopub.execute_input": "2024-04-12T20:16:11.637529Z",
     "iopub.status.busy": "2024-04-12T20:16:11.636902Z",
     "iopub.status.idle": "2024-04-12T20:16:11.642854Z",
     "shell.execute_reply": "2024-04-12T20:16:11.641859Z"
    },
    "papermill": {
     "duration": 0.018426,
     "end_time": "2024-04-12T20:16:11.645086",
     "exception": false,
     "start_time": "2024-04-12T20:16:11.626660",
     "status": "completed"
    },
    "tags": []
   },
   "outputs": [
    {
     "data": {
      "text/plain": [
       "(28, 28)"
      ]
     },
     "execution_count": 13,
     "metadata": {},
     "output_type": "execute_result"
    }
   ],
   "source": [
    "numpa[1].shape"
   ]
  },
  {
   "cell_type": "code",
   "execution_count": 14,
   "id": "a725d169",
   "metadata": {
    "execution": {
     "iopub.execute_input": "2024-04-12T20:16:11.661017Z",
     "iopub.status.busy": "2024-04-12T20:16:11.660252Z",
     "iopub.status.idle": "2024-04-12T20:16:12.010534Z",
     "shell.execute_reply": "2024-04-12T20:16:12.009724Z"
    },
    "papermill": {
     "duration": 0.360827,
     "end_time": "2024-04-12T20:16:12.012755",
     "exception": false,
     "start_time": "2024-04-12T20:16:11.651928",
     "status": "completed"
    },
    "tags": []
   },
   "outputs": [
    {
     "data": {
      "text/plain": [
       "<matplotlib.image.AxesImage at 0x799bf78fefe0>"
      ]
     },
     "execution_count": 14,
     "metadata": {},
     "output_type": "execute_result"
    },
    {
     "data": {
      "image/png": "[encoded data removed]",
      "text/plain": [
       "<Figure size 640x480 with 1 Axes>"
      ]
     },
     "metadata": {},
     "output_type": "display_data"
    }
   ],
   "source": [
    "plt.imshow(numpa[1],cmap='gray')"
   ]
  },
  {
   "cell_type": "code",
   "execution_count": 15,
   "id": "6c00d76b",
   "metadata": {
    "execution": {
     "iopub.execute_input": "2024-04-12T20:16:12.028639Z",
     "iopub.status.busy": "2024-04-12T20:16:12.028110Z",
     "iopub.status.idle": "2024-04-12T20:16:12.035050Z",
     "shell.execute_reply": "2024-04-12T20:16:12.034041Z"
    },
    "papermill": {
     "duration": 0.017216,
     "end_time": "2024-04-12T20:16:12.037062",
     "exception": false,
     "start_time": "2024-04-12T20:16:12.019846",
     "status": "completed"
    },
    "tags": []
   },
   "outputs": [
    {
     "data": {
      "text/plain": [
       "0"
      ]
     },
     "execution_count": 15,
     "metadata": {},
     "output_type": "execute_result"
    }
   ],
   "source": [
    "train_df.iloc[1,0]"
   ]
  },
  {
   "cell_type": "markdown",
   "id": "16213b67",
   "metadata": {
    "papermill": {
     "duration": 0.006917,
     "end_time": "2024-04-12T20:16:12.051249",
     "exception": false,
     "start_time": "2024-04-12T20:16:12.044332",
     "status": "completed"
    },
    "tags": []
   },
   "source": [
    "## creating datasets for training"
   ]
  },
  {
   "cell_type": "code",
   "execution_count": 16,
   "id": "076b12bd",
   "metadata": {
    "execution": {
     "iopub.execute_input": "2024-04-12T20:16:12.067598Z",
     "iopub.status.busy": "2024-04-12T20:16:12.066824Z",
     "iopub.status.idle": "2024-04-12T20:16:12.180919Z",
     "shell.execute_reply": "2024-04-12T20:16:12.179742Z"
    },
    "papermill": {
     "duration": 0.125125,
     "end_time": "2024-04-12T20:16:12.183491",
     "exception": false,
     "start_time": "2024-04-12T20:16:12.058366",
     "status": "completed"
    },
    "tags": []
   },
   "outputs": [],
   "source": [
    "train_x=train_df.drop(columns=['label'],axis=1)\n",
    "train_y=train_df['label']"
   ]
  },
  {
   "cell_type": "code",
   "execution_count": 17,
   "id": "13c43399",
   "metadata": {
    "execution": {
     "iopub.execute_input": "2024-04-12T20:16:12.200143Z",
     "iopub.status.busy": "2024-04-12T20:16:12.199243Z",
     "iopub.status.idle": "2024-04-12T20:16:12.205927Z",
     "shell.execute_reply": "2024-04-12T20:16:12.204871Z"
    },
    "papermill": {
     "duration": 0.0171,
     "end_time": "2024-04-12T20:16:12.208030",
     "exception": false,
     "start_time": "2024-04-12T20:16:12.190930",
     "status": "completed"
    },
    "tags": []
   },
   "outputs": [
    {
     "data": {
      "text/plain": [
       "(42000, 784)"
      ]
     },
     "execution_count": 17,
     "metadata": {},
     "output_type": "execute_result"
    }
   ],
   "source": [
    "train_x.shape"
   ]
  },
  {
   "cell_type": "code",
   "execution_count": 18,
   "id": "e21ee95b",
   "metadata": {
    "execution": {
     "iopub.execute_input": "2024-04-12T20:16:12.225515Z",
     "iopub.status.busy": "2024-04-12T20:16:12.223706Z",
     "iopub.status.idle": "2024-04-12T20:16:12.231260Z",
     "shell.execute_reply": "2024-04-12T20:16:12.230083Z"
    },
    "papermill": {
     "duration": 0.018112,
     "end_time": "2024-04-12T20:16:12.233475",
     "exception": false,
     "start_time": "2024-04-12T20:16:12.215363",
     "status": "completed"
    },
    "tags": []
   },
   "outputs": [
    {
     "data": {
      "text/plain": [
       "(42000,)"
      ]
     },
     "execution_count": 18,
     "metadata": {},
     "output_type": "execute_result"
    }
   ],
   "source": [
    "train_y.shape"
   ]
  },
  {
   "cell_type": "code",
   "execution_count": null,
   "id": "74729caf",
   "metadata": {
    "papermill": {
     "duration": 0.007118,
     "end_time": "2024-04-12T20:16:12.248287",
     "exception": false,
     "start_time": "2024-04-12T20:16:12.241169",
     "status": "completed"
    },
    "tags": []
   },
   "outputs": [],
   "source": []
  },
  {
   "cell_type": "code",
   "execution_count": null,
   "id": "c6f6e685",
   "metadata": {
    "papermill": {
     "duration": 0.007011,
     "end_time": "2024-04-12T20:16:12.262550",
     "exception": false,
     "start_time": "2024-04-12T20:16:12.255539",
     "status": "completed"
    },
    "tags": []
   },
   "outputs": [],
   "source": []
  },
  {
   "cell_type": "code",
   "execution_count": null,
   "id": "133fac5a",
   "metadata": {
    "papermill": {
     "duration": 0.007011,
     "end_time": "2024-04-12T20:16:12.276964",
     "exception": false,
     "start_time": "2024-04-12T20:16:12.269953",
     "status": "completed"
    },
    "tags": []
   },
   "outputs": [],
   "source": []
  },
  {
   "cell_type": "code",
   "execution_count": null,
   "id": "3f1909a4",
   "metadata": {
    "papermill": {
     "duration": 0.00698,
     "end_time": "2024-04-12T20:16:12.291193",
     "exception": false,
     "start_time": "2024-04-12T20:16:12.284213",
     "status": "completed"
    },
    "tags": []
   },
   "outputs": [],
   "source": []
  },
  {
   "cell_type": "code",
   "execution_count": null,
   "id": "e41c2066",
   "metadata": {
    "papermill": {
     "duration": 0.00692,
     "end_time": "2024-04-12T20:16:12.305474",
     "exception": false,
     "start_time": "2024-04-12T20:16:12.298554",
     "status": "completed"
    },
    "tags": []
   },
   "outputs": [],
   "source": []
  }
 ],
 "metadata": {
  "kaggle": {
   "accelerator": "none",
   "dataSources": [
    {
     "databundleVersionId": 861823,
     "sourceId": 3004,
     "sourceType": "competition"
    }
   ],
   "isGpuEnabled": false,
   "isInternetEnabled": false,
   "language": "python",
   "sourceType": "notebook"
  },
  "kernelspec": {
   "display_name": "Python 3",
   "language": "python",
   "name": "python3"
  },
  "language_info": {
   "codemirror_mode": {
    "name": "ipython",
    "version": 3
   },
   "file_extension": ".py",
   "mimetype": "text/x-python",
   "name": "python",
   "nbconvert_exporter": "python",
   "pygments_lexer": "ipython3",
   "version": "3.10.13"
  },
  "papermill": {
   "default_parameters": {},
   "duration": 11.224507,
   "end_time": "2024-04-12T20:16:12.832472",
   "environment_variables": {},
   "exception": null,
   "input_path": "__notebook__.ipynb",
   "output_path": "__notebook__.ipynb",
   "parameters": {},
   "start_time": "2024-04-12T20:16:01.607965",
   "version": "2.5.0"
  }
 },
 "nbformat": 4,
 "nbformat_minor": 5
}
